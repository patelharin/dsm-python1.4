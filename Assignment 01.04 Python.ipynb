{
 "cells": [
  {
   "cell_type": "code",
   "execution_count": 8,
   "metadata": {},
   "outputs": [
    {
     "name": "stdout",
     "output_type": "stream",
     "text": [
      "Volume of Sphere for diametere (12) is  4.188786666666666\n"
     ]
    }
   ],
   "source": [
    "# Problem​ ​Statement\n",
    "# Write​ ​a​ ​Python​ ​program​ ​to​ ​find​ ​the​ ​volume​ ​of​ ​a​ ​sphere​ ​with​ ​diameter​ ​12​ ​cm.\n",
    "# Formula:​ ​V=4/3​ ​*​ ​π​ ​*​ ​r ^3\n",
    "\n",
    "# Intialize variables\n",
    "d=12 # Diameter is 12 cm, given\n",
    "π = 3.14159 # Assiging value to π \n",
    "\n",
    "# Finding Volume of Sphere\n",
    "v = 4/3* π #(d/2)^3\n",
    "print (\"Volume of Sphere for diametere (12) is \",v)\n",
    "\n"
   ]
  },
  {
   "cell_type": "code",
   "execution_count": null,
   "metadata": {},
   "outputs": [],
   "source": []
  }
 ],
 "metadata": {
  "kernelspec": {
   "display_name": "Python 3",
   "language": "python",
   "name": "python3"
  },
  "language_info": {
   "codemirror_mode": {
    "name": "ipython",
    "version": 3
   },
   "file_extension": ".py",
   "mimetype": "text/x-python",
   "name": "python",
   "nbconvert_exporter": "python",
   "pygments_lexer": "ipython3",
   "version": "3.6.4"
  }
 },
 "nbformat": 4,
 "nbformat_minor": 2
}
